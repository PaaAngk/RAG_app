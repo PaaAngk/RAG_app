{
 "cells": [
  {
   "cell_type": "code",
   "execution_count": 7,
   "metadata": {},
   "outputs": [],
   "source": [
    "from openai import OpenAI\n",
    "\n",
    "LLM_URL=\"http://172.19.240.1:1234/v1\"\n",
    "LLM_MODEL=\"gemma-3-12b-it-qat\"\n",
    "\n",
    "openai = OpenAI(base_url=LLM_URL, api_key=\"Any\")"
   ]
  },
  {
   "cell_type": "code",
   "execution_count": 8,
   "metadata": {},
   "outputs": [
    {
     "data": {
      "text/plain": [
       "ChatCompletion(id='chatcmpl-4qmkf2dnzqjmjljq5fkyho', choices=[Choice(finish_reason='stop', index=0, logprobs=None, message=ChatCompletionMessage(content=\"Hello! 👋 \\n\\nIt's nice to hear from you. How can I help you today? 😊\\n\\n\\n\\nDo you have a question, need some information, or just want to chat?\", refusal=None, role='assistant', function_call=None, tool_calls=None))], created=1745056042, model='gemma-3-12b-it-qat', object='chat.completion', service_tier=None, system_fingerprint='gemma-3-12b-it-qat', usage=CompletionUsage(completion_tokens=39, prompt_tokens=10, total_tokens=49, completion_tokens_details=None, prompt_tokens_details=None), stats={})"
      ]
     },
     "execution_count": 8,
     "metadata": {},
     "output_type": "execute_result"
    }
   ],
   "source": [
    "openai.chat.completions.create(model=LLM_MODEL, messages=[{\"role\": \"user\", \"content\": \"Hello\"}])\n"
   ]
  },
  {
   "cell_type": "code",
   "execution_count": null,
   "metadata": {},
   "outputs": [],
   "source": []
  }
 ],
 "metadata": {
  "kernelspec": {
   "display_name": "Python 3",
   "language": "python",
   "name": "python3"
  },
  "language_info": {
   "codemirror_mode": {
    "name": "ipython",
    "version": 3
   },
   "file_extension": ".py",
   "mimetype": "text/x-python",
   "name": "python",
   "nbconvert_exporter": "python",
   "pygments_lexer": "ipython3",
   "version": "3.12.6"
  }
 },
 "nbformat": 4,
 "nbformat_minor": 2
}
